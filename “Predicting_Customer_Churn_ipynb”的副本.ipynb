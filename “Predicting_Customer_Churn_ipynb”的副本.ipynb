{
  "nbformat": 4,
  "nbformat_minor": 0,
  "metadata": {
    "colab": {
      "name": "“Predicting Customer Churn.ipynb”的副本",
      "provenance": [],
      "collapsed_sections": [],
      "include_colab_link": true
    },
    "kernelspec": {
      "name": "python3",
      "display_name": "Python 3"
    }
  },
  "cells": [
    {
      "cell_type": "markdown",
      "metadata": {
        "id": "view-in-github",
        "colab_type": "text"
      },
      "source": [
        "<a href=\"https://colab.research.google.com/github/kexinez/NYU_Integrated_Marketing/blob/main/%E2%80%9CPredicting_Customer_Churn_ipynb%E2%80%9D%E7%9A%84%E5%89%AF%E6%9C%AC.ipynb\" target=\"_parent\"><img src=\"https://colab.research.google.com/assets/colab-badge.svg\" alt=\"Open In Colab\"/></a>"
      ]
    },
    {
      "cell_type": "code",
      "metadata": {
        "id": "IG2CxY3oTX9y"
      },
      "source": [
        "import pandas as pd\n",
        "import numpy as np"
      ],
      "execution_count": null,
      "outputs": []
    },
    {
      "cell_type": "code",
      "metadata": {
        "id": "ie88WQfPWV26",
        "colab": {
          "base_uri": "https://localhost:8080/"
        },
        "outputId": "239e9438-cbca-4797-d216-6d4a9a9ef50c"
      },
      "source": [
        "pip install pingouin"
      ],
      "execution_count": null,
      "outputs": [
        {
          "output_type": "stream",
          "text": [
            "Requirement already satisfied: pingouin in /usr/local/lib/python3.6/dist-packages (0.3.8)\n",
            "Requirement already satisfied: tabulate in /usr/local/lib/python3.6/dist-packages (from pingouin) (0.8.7)\n",
            "Requirement already satisfied: numpy>=1.15 in /usr/local/lib/python3.6/dist-packages (from pingouin) (1.18.5)\n",
            "Requirement already satisfied: outdated in /usr/local/lib/python3.6/dist-packages (from pingouin) (0.2.0)\n",
            "Requirement already satisfied: seaborn>=0.9.0 in /usr/local/lib/python3.6/dist-packages (from pingouin) (0.11.0)\n",
            "Requirement already satisfied: pandas>=0.24 in /usr/local/lib/python3.6/dist-packages (from pingouin) (1.1.4)\n",
            "Requirement already satisfied: scipy>=1.3 in /usr/local/lib/python3.6/dist-packages (from pingouin) (1.4.1)\n",
            "Requirement already satisfied: pandas-flavor>=0.1.2 in /usr/local/lib/python3.6/dist-packages (from pingouin) (0.2.0)\n",
            "Requirement already satisfied: matplotlib>=3.0.2 in /usr/local/lib/python3.6/dist-packages (from pingouin) (3.2.2)\n",
            "Requirement already satisfied: statsmodels>=0.10.0 in /usr/local/lib/python3.6/dist-packages (from pingouin) (0.10.2)\n",
            "Requirement already satisfied: scikit-learn in /usr/local/lib/python3.6/dist-packages (from pingouin) (0.22.2.post1)\n",
            "Requirement already satisfied: littleutils in /usr/local/lib/python3.6/dist-packages (from outdated->pingouin) (0.2.2)\n",
            "Requirement already satisfied: requests in /usr/local/lib/python3.6/dist-packages (from outdated->pingouin) (2.23.0)\n",
            "Requirement already satisfied: pytz>=2017.2 in /usr/local/lib/python3.6/dist-packages (from pandas>=0.24->pingouin) (2018.9)\n",
            "Requirement already satisfied: python-dateutil>=2.7.3 in /usr/local/lib/python3.6/dist-packages (from pandas>=0.24->pingouin) (2.8.1)\n",
            "Requirement already satisfied: xarray in /usr/local/lib/python3.6/dist-packages (from pandas-flavor>=0.1.2->pingouin) (0.15.1)\n",
            "Requirement already satisfied: cycler>=0.10 in /usr/local/lib/python3.6/dist-packages (from matplotlib>=3.0.2->pingouin) (0.10.0)\n",
            "Requirement already satisfied: kiwisolver>=1.0.1 in /usr/local/lib/python3.6/dist-packages (from matplotlib>=3.0.2->pingouin) (1.3.1)\n",
            "Requirement already satisfied: pyparsing!=2.0.4,!=2.1.2,!=2.1.6,>=2.0.1 in /usr/local/lib/python3.6/dist-packages (from matplotlib>=3.0.2->pingouin) (2.4.7)\n",
            "Requirement already satisfied: patsy>=0.4.0 in /usr/local/lib/python3.6/dist-packages (from statsmodels>=0.10.0->pingouin) (0.5.1)\n",
            "Requirement already satisfied: joblib>=0.11 in /usr/local/lib/python3.6/dist-packages (from scikit-learn->pingouin) (0.17.0)\n",
            "Requirement already satisfied: certifi>=2017.4.17 in /usr/local/lib/python3.6/dist-packages (from requests->outdated->pingouin) (2020.11.8)\n",
            "Requirement already satisfied: urllib3!=1.25.0,!=1.25.1,<1.26,>=1.21.1 in /usr/local/lib/python3.6/dist-packages (from requests->outdated->pingouin) (1.24.3)\n",
            "Requirement already satisfied: idna<3,>=2.5 in /usr/local/lib/python3.6/dist-packages (from requests->outdated->pingouin) (2.10)\n",
            "Requirement already satisfied: chardet<4,>=3.0.2 in /usr/local/lib/python3.6/dist-packages (from requests->outdated->pingouin) (3.0.4)\n",
            "Requirement already satisfied: six>=1.5 in /usr/local/lib/python3.6/dist-packages (from python-dateutil>=2.7.3->pandas>=0.24->pingouin) (1.15.0)\n",
            "Requirement already satisfied: setuptools>=41.2 in /usr/local/lib/python3.6/dist-packages (from xarray->pandas-flavor>=0.1.2->pingouin) (50.3.2)\n"
          ],
          "name": "stdout"
        }
      ]
    },
    {
      "cell_type": "code",
      "metadata": {
        "id": "wbEKZcrvTaxt",
        "colab": {
          "base_uri": "https://localhost:8080/",
          "height": 195
        },
        "outputId": "02b6237c-bfea-4365-d2df-933ea246bfef"
      },
      "source": [
        "df = pd.read_csv('https://raw.githubusercontent.com/kexinez/NYU_Integrated_Marketing/main/insurance.csv')\n",
        "df=df.dropna()\n",
        "df.head()"
      ],
      "execution_count": null,
      "outputs": [
        {
          "output_type": "execute_result",
          "data": {
            "text/html": [
              "<div>\n",
              "<style scoped>\n",
              "    .dataframe tbody tr th:only-of-type {\n",
              "        vertical-align: middle;\n",
              "    }\n",
              "\n",
              "    .dataframe tbody tr th {\n",
              "        vertical-align: top;\n",
              "    }\n",
              "\n",
              "    .dataframe thead th {\n",
              "        text-align: right;\n",
              "    }\n",
              "</style>\n",
              "<table border=\"1\" class=\"dataframe\">\n",
              "  <thead>\n",
              "    <tr style=\"text-align: right;\">\n",
              "      <th></th>\n",
              "      <th>age</th>\n",
              "      <th>sex</th>\n",
              "      <th>bmi</th>\n",
              "      <th>children</th>\n",
              "      <th>smoker</th>\n",
              "      <th>region</th>\n",
              "      <th>charges</th>\n",
              "    </tr>\n",
              "  </thead>\n",
              "  <tbody>\n",
              "    <tr>\n",
              "      <th>0</th>\n",
              "      <td>19</td>\n",
              "      <td>female</td>\n",
              "      <td>27.900</td>\n",
              "      <td>0</td>\n",
              "      <td>yes</td>\n",
              "      <td>southwest</td>\n",
              "      <td>16884.92400</td>\n",
              "    </tr>\n",
              "    <tr>\n",
              "      <th>1</th>\n",
              "      <td>18</td>\n",
              "      <td>male</td>\n",
              "      <td>33.770</td>\n",
              "      <td>1</td>\n",
              "      <td>no</td>\n",
              "      <td>southeast</td>\n",
              "      <td>1725.55230</td>\n",
              "    </tr>\n",
              "    <tr>\n",
              "      <th>2</th>\n",
              "      <td>28</td>\n",
              "      <td>male</td>\n",
              "      <td>33.000</td>\n",
              "      <td>3</td>\n",
              "      <td>no</td>\n",
              "      <td>southeast</td>\n",
              "      <td>4449.46200</td>\n",
              "    </tr>\n",
              "    <tr>\n",
              "      <th>3</th>\n",
              "      <td>33</td>\n",
              "      <td>male</td>\n",
              "      <td>22.705</td>\n",
              "      <td>0</td>\n",
              "      <td>no</td>\n",
              "      <td>northwest</td>\n",
              "      <td>21984.47061</td>\n",
              "    </tr>\n",
              "    <tr>\n",
              "      <th>4</th>\n",
              "      <td>32</td>\n",
              "      <td>male</td>\n",
              "      <td>28.880</td>\n",
              "      <td>0</td>\n",
              "      <td>no</td>\n",
              "      <td>northwest</td>\n",
              "      <td>3866.85520</td>\n",
              "    </tr>\n",
              "  </tbody>\n",
              "</table>\n",
              "</div>"
            ],
            "text/plain": [
              "   age     sex     bmi  children smoker     region      charges\n",
              "0   19  female  27.900         0    yes  southwest  16884.92400\n",
              "1   18    male  33.770         1     no  southeast   1725.55230\n",
              "2   28    male  33.000         3     no  southeast   4449.46200\n",
              "3   33    male  22.705         0     no  northwest  21984.47061\n",
              "4   32    male  28.880         0     no  northwest   3866.85520"
            ]
          },
          "metadata": {
            "tags": []
          },
          "execution_count": 176
        }
      ]
    },
    {
      "cell_type": "code",
      "metadata": {
        "id": "EX4Y5iJ6W8hX",
        "colab": {
          "base_uri": "https://localhost:8080/"
        },
        "outputId": "ea627413-e569-44f0-f8c3-b122556029d4"
      },
      "source": [
        "df.columns"
      ],
      "execution_count": null,
      "outputs": [
        {
          "output_type": "execute_result",
          "data": {
            "text/plain": [
              "Index(['age', 'sex', 'bmi', 'children', 'smoker', 'region', 'charges'], dtype='object')"
            ]
          },
          "metadata": {
            "tags": []
          },
          "execution_count": 177
        }
      ]
    },
    {
      "cell_type": "markdown",
      "metadata": {
        "id": "0Z_yxkLyR9yQ"
      },
      "source": [
        "# Correlation\n"
      ]
    },
    {
      "cell_type": "code",
      "metadata": {
        "id": "A1jhvqJ3WQeZ"
      },
      "source": [
        "# install the software\n",
        "import pingouin as pg"
      ],
      "execution_count": null,
      "outputs": []
    },
    {
      "cell_type": "markdown",
      "metadata": {
        "id": "eAsyLwQ-V1rz"
      },
      "source": [
        "### The pairwise correlation \n",
        "https://pingouin-stats.org/generated/pingouin.pairwise_corr.html#pingouin.pairwise_corr"
      ]
    },
    {
      "cell_type": "code",
      "metadata": {
        "id": "3QpYDDTIWcoF",
        "colab": {
          "base_uri": "https://localhost:8080/",
          "height": 77
        },
        "outputId": "50890024-510f-48c3-afdc-c4c2ebcd0050"
      },
      "source": [
        "pg.pairwise_corr(df,columns=['children', 'bmi'], method='pearson').round(3)"
      ],
      "execution_count": null,
      "outputs": [
        {
          "output_type": "execute_result",
          "data": {
            "text/html": [
              "<div>\n",
              "<style scoped>\n",
              "    .dataframe tbody tr th:only-of-type {\n",
              "        vertical-align: middle;\n",
              "    }\n",
              "\n",
              "    .dataframe tbody tr th {\n",
              "        vertical-align: top;\n",
              "    }\n",
              "\n",
              "    .dataframe thead th {\n",
              "        text-align: right;\n",
              "    }\n",
              "</style>\n",
              "<table border=\"1\" class=\"dataframe\">\n",
              "  <thead>\n",
              "    <tr style=\"text-align: right;\">\n",
              "      <th></th>\n",
              "      <th>X</th>\n",
              "      <th>Y</th>\n",
              "      <th>method</th>\n",
              "      <th>tail</th>\n",
              "      <th>n</th>\n",
              "      <th>r</th>\n",
              "      <th>CI95%</th>\n",
              "      <th>r2</th>\n",
              "      <th>adj_r2</th>\n",
              "      <th>z</th>\n",
              "      <th>p-unc</th>\n",
              "      <th>BF10</th>\n",
              "      <th>power</th>\n",
              "    </tr>\n",
              "  </thead>\n",
              "  <tbody>\n",
              "    <tr>\n",
              "      <th>0</th>\n",
              "      <td>children</td>\n",
              "      <td>bmi</td>\n",
              "      <td>pearson</td>\n",
              "      <td>two-sided</td>\n",
              "      <td>1338</td>\n",
              "      <td>0.013</td>\n",
              "      <td>[-0.04, 0.07]</td>\n",
              "      <td>0.0</td>\n",
              "      <td>-0.001</td>\n",
              "      <td>0.013</td>\n",
              "      <td>0.641</td>\n",
              "      <td>0.038</td>\n",
              "      <td>0.075</td>\n",
              "    </tr>\n",
              "  </tbody>\n",
              "</table>\n",
              "</div>"
            ],
            "text/plain": [
              "          X    Y   method       tail     n  ...  adj_r2      z  p-unc   BF10  power\n",
              "0  children  bmi  pearson  two-sided  1338  ...  -0.001  0.013  0.641  0.038  0.075\n",
              "\n",
              "[1 rows x 13 columns]"
            ]
          },
          "metadata": {
            "tags": []
          },
          "execution_count": 179
        }
      ]
    },
    {
      "cell_type": "code",
      "metadata": {
        "id": "KCfIqnnTR4RA",
        "colab": {
          "base_uri": "https://localhost:8080/",
          "height": 136
        },
        "outputId": "4aacfd65-ac11-4831-8e58-98c14dc34634"
      },
      "source": [
        "pg.pairwise_corr(df,columns=['chi', 'bmi','sex'], method='pearson').round(3)"
      ],
      "execution_count": null,
      "outputs": [
        {
          "output_type": "execute_result",
          "data": {
            "text/html": [
              "<div>\n",
              "<style scoped>\n",
              "    .dataframe tbody tr th:only-of-type {\n",
              "        vertical-align: middle;\n",
              "    }\n",
              "\n",
              "    .dataframe tbody tr th {\n",
              "        vertical-align: top;\n",
              "    }\n",
              "\n",
              "    .dataframe thead th {\n",
              "        text-align: right;\n",
              "    }\n",
              "</style>\n",
              "<table border=\"1\" class=\"dataframe\">\n",
              "  <thead>\n",
              "    <tr style=\"text-align: right;\">\n",
              "      <th></th>\n",
              "      <th>X</th>\n",
              "      <th>Y</th>\n",
              "      <th>method</th>\n",
              "      <th>tail</th>\n",
              "      <th>n</th>\n",
              "      <th>r</th>\n",
              "      <th>CI95%</th>\n",
              "      <th>r2</th>\n",
              "      <th>adj_r2</th>\n",
              "      <th>z</th>\n",
              "      <th>p-unc</th>\n",
              "      <th>BF10</th>\n",
              "      <th>power</th>\n",
              "    </tr>\n",
              "  </thead>\n",
              "  <tbody>\n",
              "    <tr>\n",
              "      <th>0</th>\n",
              "      <td>bmi</td>\n",
              "      <td>age</td>\n",
              "      <td>pearson</td>\n",
              "      <td>two-sided</td>\n",
              "      <td>1338</td>\n",
              "      <td>0.109</td>\n",
              "      <td>[0.06, 0.16]</td>\n",
              "      <td>0.012</td>\n",
              "      <td>0.010</td>\n",
              "      <td>0.110</td>\n",
              "      <td>0.000</td>\n",
              "      <td>103.37</td>\n",
              "      <td>0.980</td>\n",
              "    </tr>\n",
              "    <tr>\n",
              "      <th>1</th>\n",
              "      <td>bmi</td>\n",
              "      <td>children</td>\n",
              "      <td>pearson</td>\n",
              "      <td>two-sided</td>\n",
              "      <td>1338</td>\n",
              "      <td>0.013</td>\n",
              "      <td>[-0.04, 0.07]</td>\n",
              "      <td>0.000</td>\n",
              "      <td>-0.001</td>\n",
              "      <td>0.013</td>\n",
              "      <td>0.641</td>\n",
              "      <td>0.038</td>\n",
              "      <td>0.075</td>\n",
              "    </tr>\n",
              "    <tr>\n",
              "      <th>2</th>\n",
              "      <td>bmi</td>\n",
              "      <td>charges</td>\n",
              "      <td>pearson</td>\n",
              "      <td>two-sided</td>\n",
              "      <td>1338</td>\n",
              "      <td>0.198</td>\n",
              "      <td>[0.15, 0.25]</td>\n",
              "      <td>0.039</td>\n",
              "      <td>0.038</td>\n",
              "      <td>0.201</td>\n",
              "      <td>0.000</td>\n",
              "      <td>1.447e+10</td>\n",
              "      <td>1.000</td>\n",
              "    </tr>\n",
              "  </tbody>\n",
              "</table>\n",
              "</div>"
            ],
            "text/plain": [
              "     X         Y   method       tail  ...      z  p-unc       BF10  power\n",
              "0  bmi       age  pearson  two-sided  ...  0.110  0.000     103.37  0.980\n",
              "1  bmi  children  pearson  two-sided  ...  0.013  0.641      0.038  0.075\n",
              "2  bmi   charges  pearson  two-sided  ...  0.201  0.000  1.447e+10  1.000\n",
              "\n",
              "[3 rows x 13 columns]"
            ]
          },
          "metadata": {
            "tags": []
          },
          "execution_count": 180
        }
      ]
    },
    {
      "cell_type": "markdown",
      "metadata": {
        "id": "_DZhMdGkcxvE"
      },
      "source": [
        "### The Partial correlation\n",
        "https://pingouin-stats.org/generated/pingouin.partial_corr.html#pingouin.partial_corr"
      ]
    },
    {
      "cell_type": "code",
      "metadata": {
        "id": "rsbmpABLc5Uq",
        "colab": {
          "base_uri": "https://localhost:8080/",
          "height": 317
        },
        "outputId": "f81f7447-3b59-43ca-f17b-c5c6fde3aa61"
      },
      "source": [
        "# Partial correlation of total_day_calls and number_customer_service_calls controlling for account_length\n",
        "x='children'\n",
        "y='bmi'\n",
        "control='sex'\n",
        "pg.partial_corr(data=df, x=x, y=y, covar=control, method='pearson').round(3)"
      ],
      "execution_count": null,
      "outputs": [
        {
          "output_type": "error",
          "ename": "AssertionError",
          "evalue": "ignored",
          "traceback": [
            "\u001b[0;31m---------------------------------------------------------------------------\u001b[0m",
            "\u001b[0;31mAssertionError\u001b[0m                            Traceback (most recent call last)",
            "\u001b[0;32m<ipython-input-181-e350bc73083b>\u001b[0m in \u001b[0;36m<module>\u001b[0;34m()\u001b[0m\n\u001b[1;32m      3\u001b[0m \u001b[0my\u001b[0m\u001b[0;34m=\u001b[0m\u001b[0;34m'bmi'\u001b[0m\u001b[0;34m\u001b[0m\u001b[0;34m\u001b[0m\u001b[0m\n\u001b[1;32m      4\u001b[0m \u001b[0mcontrol\u001b[0m\u001b[0;34m=\u001b[0m\u001b[0;34m'sex'\u001b[0m\u001b[0;34m\u001b[0m\u001b[0;34m\u001b[0m\u001b[0m\n\u001b[0;32m----> 5\u001b[0;31m \u001b[0mpg\u001b[0m\u001b[0;34m.\u001b[0m\u001b[0mpartial_corr\u001b[0m\u001b[0;34m(\u001b[0m\u001b[0mdata\u001b[0m\u001b[0;34m=\u001b[0m\u001b[0mdf\u001b[0m\u001b[0;34m,\u001b[0m \u001b[0mx\u001b[0m\u001b[0;34m=\u001b[0m\u001b[0mx\u001b[0m\u001b[0;34m,\u001b[0m \u001b[0my\u001b[0m\u001b[0;34m=\u001b[0m\u001b[0my\u001b[0m\u001b[0;34m,\u001b[0m \u001b[0mcovar\u001b[0m\u001b[0;34m=\u001b[0m\u001b[0mcontrol\u001b[0m\u001b[0;34m,\u001b[0m \u001b[0mmethod\u001b[0m\u001b[0;34m=\u001b[0m\u001b[0;34m'pearson'\u001b[0m\u001b[0;34m)\u001b[0m\u001b[0;34m.\u001b[0m\u001b[0mround\u001b[0m\u001b[0;34m(\u001b[0m\u001b[0;36m3\u001b[0m\u001b[0;34m)\u001b[0m\u001b[0;34m\u001b[0m\u001b[0;34m\u001b[0m\u001b[0m\n\u001b[0m",
            "\u001b[0;32m/usr/local/lib/python3.6/dist-packages/pingouin/correlation.py\u001b[0m in \u001b[0;36mpartial_corr\u001b[0;34m(data, x, y, covar, x_covar, y_covar, tail, method)\u001b[0m\n\u001b[1;32m    727\u001b[0m     \u001b[0;32massert\u001b[0m \u001b[0mall\u001b[0m\u001b[0;34m(\u001b[0m\u001b[0;34m[\u001b[0m\u001b[0mc\u001b[0m \u001b[0;32min\u001b[0m \u001b[0mdata\u001b[0m \u001b[0;32mfor\u001b[0m \u001b[0mc\u001b[0m \u001b[0;32min\u001b[0m \u001b[0mcol\u001b[0m\u001b[0;34m]\u001b[0m\u001b[0;34m)\u001b[0m\u001b[0;34m,\u001b[0m \u001b[0;34m'columns are not in dataframe.'\u001b[0m\u001b[0;34m\u001b[0m\u001b[0;34m\u001b[0m\u001b[0m\n\u001b[1;32m    728\u001b[0m     \u001b[0;31m# Check that columns are numeric\u001b[0m\u001b[0;34m\u001b[0m\u001b[0;34m\u001b[0m\u001b[0;34m\u001b[0m\u001b[0m\n\u001b[0;32m--> 729\u001b[0;31m     \u001b[0;32massert\u001b[0m \u001b[0mall\u001b[0m\u001b[0;34m(\u001b[0m\u001b[0;34m[\u001b[0m\u001b[0mdata\u001b[0m\u001b[0;34m[\u001b[0m\u001b[0mc\u001b[0m\u001b[0;34m]\u001b[0m\u001b[0;34m.\u001b[0m\u001b[0mdtype\u001b[0m\u001b[0;34m.\u001b[0m\u001b[0mkind\u001b[0m \u001b[0;32min\u001b[0m \u001b[0;34m'bfiu'\u001b[0m \u001b[0;32mfor\u001b[0m \u001b[0mc\u001b[0m \u001b[0;32min\u001b[0m \u001b[0mcol\u001b[0m\u001b[0;34m]\u001b[0m\u001b[0;34m)\u001b[0m\u001b[0;34m\u001b[0m\u001b[0;34m\u001b[0m\u001b[0m\n\u001b[0m\u001b[1;32m    730\u001b[0m \u001b[0;34m\u001b[0m\u001b[0m\n\u001b[1;32m    731\u001b[0m     \u001b[0;31m# Drop rows with NaN\u001b[0m\u001b[0;34m\u001b[0m\u001b[0;34m\u001b[0m\u001b[0;34m\u001b[0m\u001b[0m\n",
            "\u001b[0;31mAssertionError\u001b[0m: "
          ]
        }
      ]
    },
    {
      "cell_type": "markdown",
      "metadata": {
        "id": "xiCS1-GxSBYo"
      },
      "source": [
        "# Regression"
      ]
    },
    {
      "cell_type": "markdown",
      "metadata": {
        "id": "NcDYDzcVdkyK"
      },
      "source": [
        "## Scatterplot\n",
        "https://seaborn.pydata.org/generated/seaborn.scatterplot.html\n"
      ]
    },
    {
      "cell_type": "code",
      "metadata": {
        "id": "zJUCoSGHSD5X"
      },
      "source": [
        "#install the package\n",
        "import seaborn as sns"
      ],
      "execution_count": null,
      "outputs": []
    },
    {
      "cell_type": "code",
      "metadata": {
        "id": "gojbHRk3e5lH",
        "colab": {
          "base_uri": "https://localhost:8080/",
          "height": 296
        },
        "outputId": "29270774-eb72-4a12-c5a9-d9e69e56625e"
      },
      "source": [
        "x='bmi'\n",
        "y='charges'\n",
        "sns.scatterplot(data=df,x=x,y=y)"
      ],
      "execution_count": null,
      "outputs": [
        {
          "output_type": "execute_result",
          "data": {
            "text/plain": [
              "<matplotlib.axes._subplots.AxesSubplot at 0x7f7136a300f0>"
            ]
          },
          "metadata": {
            "tags": []
          },
          "execution_count": 183
        },
        {
          "output_type": "display_data",
          "data": {
            "image/png": "[encoded data removed]",
            "text/plain": [
              "<Figure size 432x288 with 1 Axes>"
            ]
          },
          "metadata": {
            "tags": [],
            "needs_background": "light"
          }
        }
      ]
    },
    {
      "cell_type": "code",
      "metadata": {
        "id": "whLmcG1zd6sw",
        "colab": {
          "base_uri": "https://localhost:8080/",
          "height": 296
        },
        "outputId": "207ab328-0278-4cdf-b5c6-2dafb80100d3"
      },
      "source": [
        "x='age'\n",
        "y='bmi'\n",
        "sns.scatterplot(data=df, x=x, y=y)"
      ],
      "execution_count": null,
      "outputs": [
        {
          "output_type": "execute_result",
          "data": {
            "text/plain": [
              "<matplotlib.axes._subplots.AxesSubplot at 0x7f7136a2bda0>"
            ]
          },
          "metadata": {
            "tags": []
          },
          "execution_count": 184
        },
        {
          "output_type": "display_data",
          "data": {
            "image/png": "[encoded data removed]",
            "text/plain": [
              "<Figure size 432x288 with 1 Axes>"
            ]
          },
          "metadata": {
            "tags": [],
            "needs_background": "light"
          }
        }
      ]
    },
    {
      "cell_type": "code",
      "metadata": {
        "id": "p6ega-W3D8Os"
      },
      "source": [
        ""
      ],
      "execution_count": null,
      "outputs": []
    },
    {
      "cell_type": "markdown",
      "metadata": {
        "id": "tlfyT476fls1"
      },
      "source": [
        "### Regression Result\n",
        "https://www.statsmodels.org/stable/regression.html"
      ]
    },
    {
      "cell_type": "code",
      "metadata": {
        "id": "vdi8twwSflJF"
      },
      "source": [
        "import statsmodels.api as sm"
      ],
      "execution_count": null,
      "outputs": []
    },
    {
      "cell_type": "code",
      "metadata": {
        "id": "j4bQJTIWhmw9",
        "colab": {
          "base_uri": "https://localhost:8080/"
        },
        "outputId": "f54c48b3-ceb1-4ba5-f331-84c44d5b027f"
      },
      "source": [
        "df.info()"
      ],
      "execution_count": null,
      "outputs": [
        {
          "output_type": "stream",
          "text": [
            "<class 'pandas.core.frame.DataFrame'>\n",
            "Int64Index: 1338 entries, 0 to 1337\n",
            "Data columns (total 7 columns):\n",
            " #   Column    Non-Null Count  Dtype  \n",
            "---  ------    --------------  -----  \n",
            " 0   age       1338 non-null   int64  \n",
            " 1   sex       1338 non-null   object \n",
            " 2   bmi       1338 non-null   float64\n",
            " 3   children  1338 non-null   int64  \n",
            " 4   smoker    1338 non-null   object \n",
            " 5   region    1338 non-null   object \n",
            " 6   charges   1338 non-null   float64\n",
            "dtypes: float64(2), int64(2), object(3)\n",
            "memory usage: 83.6+ KB\n"
          ],
          "name": "stdout"
        }
      ]
    },
    {
      "cell_type": "code",
      "metadata": {
        "id": "Rn0ymAmwf9v1"
      },
      "source": [
        "# define the dependent and independent variables\n",
        "X=df[['children','bmi']]\n",
        "y=df['charges']\n"
      ],
      "execution_count": null,
      "outputs": []
    },
    {
      "cell_type": "code",
      "metadata": {
        "id": "fkzO0R3pgT2R",
        "colab": {
          "base_uri": "https://localhost:8080/",
          "height": 195
        },
        "outputId": "5cbcd4d4-a90a-4436-80f7-cb78b604025b"
      },
      "source": [
        "# add a constant to the dependent variables\n",
        "X= sm.add_constant(X)\n",
        "X.head()"
      ],
      "execution_count": null,
      "outputs": [
        {
          "output_type": "execute_result",
          "data": {
            "text/html": [
              "<div>\n",
              "<style scoped>\n",
              "    .dataframe tbody tr th:only-of-type {\n",
              "        vertical-align: middle;\n",
              "    }\n",
              "\n",
              "    .dataframe tbody tr th {\n",
              "        vertical-align: top;\n",
              "    }\n",
              "\n",
              "    .dataframe thead th {\n",
              "        text-align: right;\n",
              "    }\n",
              "</style>\n",
              "<table border=\"1\" class=\"dataframe\">\n",
              "  <thead>\n",
              "    <tr style=\"text-align: right;\">\n",
              "      <th></th>\n",
              "      <th>const</th>\n",
              "      <th>children</th>\n",
              "      <th>bmi</th>\n",
              "    </tr>\n",
              "  </thead>\n",
              "  <tbody>\n",
              "    <tr>\n",
              "      <th>0</th>\n",
              "      <td>1.0</td>\n",
              "      <td>0</td>\n",
              "      <td>27.900</td>\n",
              "    </tr>\n",
              "    <tr>\n",
              "      <th>1</th>\n",
              "      <td>1.0</td>\n",
              "      <td>1</td>\n",
              "      <td>33.770</td>\n",
              "    </tr>\n",
              "    <tr>\n",
              "      <th>2</th>\n",
              "      <td>1.0</td>\n",
              "      <td>3</td>\n",
              "      <td>33.000</td>\n",
              "    </tr>\n",
              "    <tr>\n",
              "      <th>3</th>\n",
              "      <td>1.0</td>\n",
              "      <td>0</td>\n",
              "      <td>22.705</td>\n",
              "    </tr>\n",
              "    <tr>\n",
              "      <th>4</th>\n",
              "      <td>1.0</td>\n",
              "      <td>0</td>\n",
              "      <td>28.880</td>\n",
              "    </tr>\n",
              "  </tbody>\n",
              "</table>\n",
              "</div>"
            ],
            "text/plain": [
              "   const  children     bmi\n",
              "0    1.0         0  27.900\n",
              "1    1.0         1  33.770\n",
              "2    1.0         3  33.000\n",
              "3    1.0         0  22.705\n",
              "4    1.0         0  28.880"
            ]
          },
          "metadata": {
            "tags": []
          },
          "execution_count": 211
        }
      ]
    },
    {
      "cell_type": "code",
      "metadata": {
        "id": "bwNdL7qhgmkq"
      },
      "source": [
        "# conduct regression\n",
        "model = sm.OLS(y, X).fit()"
      ],
      "execution_count": null,
      "outputs": []
    },
    {
      "cell_type": "code",
      "metadata": {
        "id": "DObikW1rixt_",
        "colab": {
          "base_uri": "https://localhost:8080/"
        },
        "outputId": "5687cea3-f2f3-4f37-a039-158285bc3460"
      },
      "source": [
        "# print model summary\n",
        "print(model.summary())"
      ],
      "execution_count": null,
      "outputs": [
        {
          "output_type": "stream",
          "text": [
            "                            OLS Regression Results                            \n",
            "==============================================================================\n",
            "Dep. Variable:                charges   R-squared:                       0.044\n",
            "Model:                            OLS   Adj. R-squared:                  0.042\n",
            "Method:                 Least Squares   F-statistic:                     30.45\n",
            "Date:                Mon, 07 Dec 2020   Prob (F-statistic):           1.17e-13\n",
            "Time:                        17:06:10   Log-Likelihood:                -14448.\n",
            "No. Observations:                1338   AIC:                         2.890e+04\n",
            "Df Residuals:                    1335   BIC:                         2.892e+04\n",
            "Df Model:                           2                                         \n",
            "Covariance Type:            nonrobust                                         \n",
            "==============================================================================\n",
            "                 coef    std err          t      P>|t|      [0.025      0.975]\n",
            "------------------------------------------------------------------------------\n",
            "const        523.5995   1684.084      0.311      0.756   -2780.139    3827.338\n",
            "children     657.7747    268.899      2.446      0.015     130.265    1185.285\n",
            "bmi          392.2140     53.156      7.379      0.000     287.936     496.492\n",
            "==============================================================================\n",
            "Omnibus:                      265.478   Durbin-Watson:                   1.984\n",
            "Prob(Omnibus):                  0.000   Jarque-Bera (JB):              442.183\n",
            "Skew:                           1.311   Prob(JB):                     9.58e-97\n",
            "Kurtosis:                       4.028   Cond. No.                         163.\n",
            "==============================================================================\n",
            "\n",
            "Warnings:\n",
            "[1] Standard Errors assume that the covariance matrix of the errors is correctly specified.\n"
          ],
          "name": "stdout"
        }
      ]
    },
    {
      "cell_type": "markdown",
      "metadata": {
        "id": "RGwla0sPkhrh"
      },
      "source": [
        "### Check assumptions"
      ]
    },
    {
      "cell_type": "code",
      "metadata": {
        "id": "OFnG5UzGiw_H",
        "colab": {
          "base_uri": "https://localhost:8080/",
          "height": 195
        },
        "outputId": "5c143d18-e7f3-4864-94de-9c69cb44485e"
      },
      "source": [
        "### get the residuals\n",
        "predictions = model.predict(X)\n",
        "residuals =y-predictions\n",
        "df_res=pd.DataFrame({'Residual': residuals, 'Prediction': predictions})\n",
        "df_res.head()"
      ],
      "execution_count": null,
      "outputs": [
        {
          "output_type": "execute_result",
          "data": {
            "text/html": [
              "<div>\n",
              "<style scoped>\n",
              "    .dataframe tbody tr th:only-of-type {\n",
              "        vertical-align: middle;\n",
              "    }\n",
              "\n",
              "    .dataframe tbody tr th {\n",
              "        vertical-align: top;\n",
              "    }\n",
              "\n",
              "    .dataframe thead th {\n",
              "        text-align: right;\n",
              "    }\n",
              "</style>\n",
              "<table border=\"1\" class=\"dataframe\">\n",
              "  <thead>\n",
              "    <tr style=\"text-align: right;\">\n",
              "      <th></th>\n",
              "      <th>Residual</th>\n",
              "      <th>Prediction</th>\n",
              "    </tr>\n",
              "  </thead>\n",
              "  <tbody>\n",
              "    <tr>\n",
              "      <th>0</th>\n",
              "      <td>5418.553892</td>\n",
              "      <td>11466.370108</td>\n",
              "    </tr>\n",
              "    <tr>\n",
              "      <th>1</th>\n",
              "      <td>-12700.888691</td>\n",
              "      <td>14426.440991</td>\n",
              "    </tr>\n",
              "    <tr>\n",
              "      <th>2</th>\n",
              "      <td>-10990.523611</td>\n",
              "      <td>15439.985611</td>\n",
              "    </tr>\n",
              "    <tr>\n",
              "      <th>3</th>\n",
              "      <td>12555.652235</td>\n",
              "      <td>9428.818375</td>\n",
              "    </tr>\n",
              "    <tr>\n",
              "      <th>4</th>\n",
              "      <td>-7983.884628</td>\n",
              "      <td>11850.739828</td>\n",
              "    </tr>\n",
              "  </tbody>\n",
              "</table>\n",
              "</div>"
            ],
            "text/plain": [
              "       Residual    Prediction\n",
              "0   5418.553892  11466.370108\n",
              "1 -12700.888691  14426.440991\n",
              "2 -10990.523611  15439.985611\n",
              "3  12555.652235   9428.818375\n",
              "4  -7983.884628  11850.739828"
            ]
          },
          "metadata": {
            "tags": []
          },
          "execution_count": 213
        }
      ]
    },
    {
      "cell_type": "code",
      "metadata": {
        "id": "IH3HTV1Ig5ry",
        "colab": {
          "base_uri": "https://localhost:8080/",
          "height": 296
        },
        "outputId": "e13cf16e-969b-4338-acff-292debd8df69"
      },
      "source": [
        "#print the scatter plot between residuals and predicitions\n",
        "x='Prediction'\n",
        "y='Residual'\n",
        "sns.scatterplot(data=df_res, x=x, y=y)"
      ],
      "execution_count": null,
      "outputs": [
        {
          "output_type": "execute_result",
          "data": {
            "text/plain": [
              "<matplotlib.axes._subplots.AxesSubplot at 0x7f713462eb70>"
            ]
          },
          "metadata": {
            "tags": []
          },
          "execution_count": 214
        },
        {
          "output_type": "display_data",
          "data": {
            "image/png": "[encoded data removed]",
            "text/plain": [
              "<Figure size 432x288 with 1 Axes>"
            ]
          },
          "metadata": {
            "tags": [],
            "needs_background": "light"
          }
        }
      ]
    },
    {
      "cell_type": "code",
      "metadata": {
        "id": "f_yGcrNQlSz9",
        "colab": {
          "base_uri": "https://localhost:8080/",
          "height": 386
        },
        "outputId": "c85639ae-dfc9-4ba8-85d0-af3cc66c0d1c"
      },
      "source": [
        "# histogram of the residual\n",
        "sns.displot(df_res, x=\"Residual\")"
      ],
      "execution_count": null,
      "outputs": [
        {
          "output_type": "execute_result",
          "data": {
            "text/plain": [
              "<seaborn.axisgrid.FacetGrid at 0x7f71346899b0>"
            ]
          },
          "metadata": {
            "tags": []
          },
          "execution_count": 215
        },
        {
          "output_type": "display_data",
          "data": {
            "image/png": "[encoded data removed]",
            "text/plain": [
              "<Figure size 360x360 with 1 Axes>"
            ]
          },
          "metadata": {
            "tags": [],
            "needs_background": "light"
          }
        }
      ]
    },
    {
      "cell_type": "code",
      "metadata": {
        "id": "udEtywzCmjZd",
        "colab": {
          "base_uri": "https://localhost:8080/",
          "height": 77
        },
        "outputId": "d8293f5f-bf27-4c25-87ba-e5d1975fc561"
      },
      "source": [
        "x=df_res['Residual']\n",
        "pg.normality(x)"
      ],
      "execution_count": null,
      "outputs": [
        {
          "output_type": "execute_result",
          "data": {
            "text/html": [
              "<div>\n",
              "<style scoped>\n",
              "    .dataframe tbody tr th:only-of-type {\n",
              "        vertical-align: middle;\n",
              "    }\n",
              "\n",
              "    .dataframe tbody tr th {\n",
              "        vertical-align: top;\n",
              "    }\n",
              "\n",
              "    .dataframe thead th {\n",
              "        text-align: right;\n",
              "    }\n",
              "</style>\n",
              "<table border=\"1\" class=\"dataframe\">\n",
              "  <thead>\n",
              "    <tr style=\"text-align: right;\">\n",
              "      <th></th>\n",
              "      <th>W</th>\n",
              "      <th>pval</th>\n",
              "      <th>normal</th>\n",
              "    </tr>\n",
              "  </thead>\n",
              "  <tbody>\n",
              "    <tr>\n",
              "      <th>Residual</th>\n",
              "      <td>0.857539</td>\n",
              "      <td>3.917131e-33</td>\n",
              "      <td>False</td>\n",
              "    </tr>\n",
              "  </tbody>\n",
              "</table>\n",
              "</div>"
            ],
            "text/plain": [
              "                 W          pval  normal\n",
              "Residual  0.857539  3.917131e-33   False"
            ]
          },
          "metadata": {
            "tags": []
          },
          "execution_count": 217
        }
      ]
    },
    {
      "cell_type": "code",
      "metadata": {
        "id": "wNWZrEmsm0aL",
        "colab": {
          "base_uri": "https://localhost:8080/",
          "height": 77
        },
        "outputId": "115faf45-d5fb-4f7c-ca66-3c46d727c998"
      },
      "source": [
        "pg.pairwise_corr(df,columns=['children','bmi'], method='pearson').round(3)"
      ],
      "execution_count": null,
      "outputs": [
        {
          "output_type": "execute_result",
          "data": {
            "text/html": [
              "<div>\n",
              "<style scoped>\n",
              "    .dataframe tbody tr th:only-of-type {\n",
              "        vertical-align: middle;\n",
              "    }\n",
              "\n",
              "    .dataframe tbody tr th {\n",
              "        vertical-align: top;\n",
              "    }\n",
              "\n",
              "    .dataframe thead th {\n",
              "        text-align: right;\n",
              "    }\n",
              "</style>\n",
              "<table border=\"1\" class=\"dataframe\">\n",
              "  <thead>\n",
              "    <tr style=\"text-align: right;\">\n",
              "      <th></th>\n",
              "      <th>X</th>\n",
              "      <th>Y</th>\n",
              "      <th>method</th>\n",
              "      <th>tail</th>\n",
              "      <th>n</th>\n",
              "      <th>r</th>\n",
              "      <th>CI95%</th>\n",
              "      <th>r2</th>\n",
              "      <th>adj_r2</th>\n",
              "      <th>z</th>\n",
              "      <th>p-unc</th>\n",
              "      <th>BF10</th>\n",
              "      <th>power</th>\n",
              "    </tr>\n",
              "  </thead>\n",
              "  <tbody>\n",
              "    <tr>\n",
              "      <th>0</th>\n",
              "      <td>children</td>\n",
              "      <td>bmi</td>\n",
              "      <td>pearson</td>\n",
              "      <td>two-sided</td>\n",
              "      <td>1338</td>\n",
              "      <td>0.013</td>\n",
              "      <td>[-0.04, 0.07]</td>\n",
              "      <td>0.0</td>\n",
              "      <td>-0.001</td>\n",
              "      <td>0.013</td>\n",
              "      <td>0.641</td>\n",
              "      <td>0.038</td>\n",
              "      <td>0.075</td>\n",
              "    </tr>\n",
              "  </tbody>\n",
              "</table>\n",
              "</div>"
            ],
            "text/plain": [
              "          X    Y   method       tail     n  ...  adj_r2      z  p-unc   BF10  power\n",
              "0  children  bmi  pearson  two-sided  1338  ...  -0.001  0.013  0.641  0.038  0.075\n",
              "\n",
              "[1 rows x 13 columns]"
            ]
          },
          "metadata": {
            "tags": []
          },
          "execution_count": 219
        }
      ]
    },
    {
      "cell_type": "markdown",
      "metadata": {
        "id": "SlmS5mivSEFk"
      },
      "source": [
        "#Logit Analysis"
      ]
    },
    {
      "cell_type": "code",
      "metadata": {
        "id": "Anw8OVMxo7VN"
      },
      "source": [
        "df['Churn_Numeric'] = df['churn'].apply(lambda x: 1 if x =='yes' else 0)\n",
        "df.head()"
      ],
      "execution_count": null,
      "outputs": []
    },
    {
      "cell_type": "code",
      "metadata": {
        "id": "ojd5NmMbSHBr"
      },
      "source": [
        "y=df['Churn_Numeric']\n",
        "X=df[['total_intl_charge','number_customer_service_calls','account_length']]"
      ],
      "execution_count": null,
      "outputs": []
    },
    {
      "cell_type": "code",
      "metadata": {
        "id": "pnp4ergnnuJ6"
      },
      "source": [
        "# add a constant to the dependent variables\n",
        "X= sm.add_constant(X)\n",
        "X.head()"
      ],
      "execution_count": null,
      "outputs": []
    },
    {
      "cell_type": "code",
      "metadata": {
        "id": "pxLfgDRyn2RG"
      },
      "source": [
        "# conduct regression\n",
        "logit_model = sm.Logit(y, X).fit()"
      ],
      "execution_count": null,
      "outputs": []
    },
    {
      "cell_type": "code",
      "metadata": {
        "id": "QOiXQEpyoG4X"
      },
      "source": [
        "# print model summary\n",
        "print(logit_model.summary())"
      ],
      "execution_count": null,
      "outputs": []
    },
    {
      "cell_type": "code",
      "metadata": {
        "id": "1f2q1BDFrKfh"
      },
      "source": [
        "### get the odds ratio\n",
        "np.exp(logit_model.params)"
      ],
      "execution_count": null,
      "outputs": []
    },
    {
      "cell_type": "code",
      "metadata": {
        "id": "zTg6Q0PW-cnL"
      },
      "source": [
        "### get the predictions \n",
        "pred_prob = logit_model.predict(X)\n",
        "df_result=pd.DataFrame({'Pred_prob': pred_prob,'y':y})\n",
        "df_result['Prediction']=df_result['Pred_prob'].apply(lambda x: 1 if x >=0.5 else 0)\n",
        "df_result.head()"
      ],
      "execution_count": null,
      "outputs": []
    },
    {
      "cell_type": "code",
      "metadata": {
        "id": "BTYQlU1E-X68"
      },
      "source": [
        "from sklearn.metrics import accuracy_score\n",
        "Prediction = df_result['Prediction']\n",
        "accuracy_score(y, Prediction)"
      ],
      "execution_count": null,
      "outputs": []
    },
    {
      "cell_type": "markdown",
      "metadata": {
        "id": "NN1JZi6QytSI"
      },
      "source": [
        "# Cross Validation"
      ]
    },
    {
      "cell_type": "code",
      "metadata": {
        "id": "uWE_4WJ1zmEY"
      },
      "source": [
        "## get the train and test data\n",
        "from sklearn.model_selection import train_test_split\n",
        "X_train, X_test, y_train, y_test = train_test_split(X,y, test_size=0.2)"
      ],
      "execution_count": null,
      "outputs": []
    },
    {
      "cell_type": "code",
      "metadata": {
        "id": "yamXvVpAzJjz"
      },
      "source": [
        "# conduct regression\n",
        "logit_model = sm.Logit(y_train, X_train).fit()"
      ],
      "execution_count": null,
      "outputs": []
    },
    {
      "cell_type": "code",
      "metadata": {
        "id": "ZMH7hMPY1huD"
      },
      "source": [
        "# print model summary\n",
        "print(logit_model.summary())"
      ],
      "execution_count": null,
      "outputs": []
    },
    {
      "cell_type": "code",
      "metadata": {
        "id": "QyJABOei0y7s"
      },
      "source": [
        "### get the predictions on the test data\n",
        "pred_prob = logit_model.predict(X_test)\n",
        "df_test=pd.DataFrame({'Pred_prob': pred_prob,'y_test':y_test})\n",
        "df_test['Prediction']=df_test['Pred_prob'].apply(lambda x: 1 if x >=0.5 else 0)\n",
        "df_test.head()"
      ],
      "execution_count": null,
      "outputs": []
    },
    {
      "cell_type": "code",
      "metadata": {
        "id": "-1byyhB58xox"
      },
      "source": [
        "from sklearn.metrics import accuracy_score\n",
        "Prediction =df_test['Prediction']\n",
        "accuracy_score(y_test, Prediction)"
      ],
      "execution_count": null,
      "outputs": []
    },
    {
      "cell_type": "markdown",
      "metadata": {
        "id": "w0P7kXdRBwUf"
      },
      "source": [
        "### draw confusion matrix\n",
        "https://scikit-learn.org/stable/modules/generated/sklearn.metrics.confusion_matrix.html"
      ]
    },
    {
      "cell_type": "code",
      "metadata": {
        "id": "uUKXOL8TBrrl"
      },
      "source": [
        "from sklearn.metrics import confusion_matrix\n",
        "confmtrx = np.array(confusion_matrix(y_test, Prediction))\n",
        "pd.DataFrame(confmtrx, index=['Non-Churn','Churn'],\n",
        "columns=['predicted_Non_Churn', 'predicted_Churn'])"
      ],
      "execution_count": null,
      "outputs": []
    },
    {
      "cell_type": "markdown",
      "metadata": {
        "id": "6746HCW1Eugo"
      },
      "source": [
        "#Calculate the F1 score\n",
        "https://scikit-learn.org/stable/modules/generated/sklearn.metrics.f1_score.html"
      ]
    },
    {
      "cell_type": "code",
      "metadata": {
        "id": "sVpJjEG8EsNj"
      },
      "source": [
        "from sklearn.metrics import f1_score\n",
        "f1_score(y_test, Prediction)"
      ],
      "execution_count": null,
      "outputs": []
    },
    {
      "cell_type": "markdown",
      "metadata": {
        "id": "52kObdnA_RUz"
      },
      "source": [
        "# Cross validation for multiple times"
      ]
    },
    {
      "cell_type": "code",
      "metadata": {
        "id": "YTXnGztq91-j"
      },
      "source": [
        "from sklearn.model_selection import cross_val_score\n",
        "from sklearn.linear_model import LogisticRegression\n",
        "log_reg=LogisticRegression()\n",
        "scores = cross_val_score(log_reg, X, y, cv=10)\n",
        "print('Cross-Validation Accuracy Scores', scores)"
      ],
      "execution_count": null,
      "outputs": []
    },
    {
      "cell_type": "code",
      "metadata": {
        "id": "q3ioK7FNAjkS"
      },
      "source": [
        "scores = pd.Series(scores)\n",
        "scores.min(), scores.mean(), scores.max()"
      ],
      "execution_count": null,
      "outputs": []
    },
    {
      "cell_type": "markdown",
      "metadata": {
        "id": "olklUa9t7R1-"
      },
      "source": [
        "# Appendix"
      ]
    },
    {
      "cell_type": "code",
      "metadata": {
        "id": "sAVI7ee81vmu"
      },
      "source": [
        "Z =np.linspace(-100,100,10000)\n",
        "P=np.exp(Z)/(1+np.exp(Z))\n",
        "import plotly.express as px\n",
        "fig = px.scatter(x=Z, y=P)\n",
        "fig.show()"
      ],
      "execution_count": null,
      "outputs": []
    }
  ]
}